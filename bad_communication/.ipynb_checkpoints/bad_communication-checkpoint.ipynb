{
 "cells": [
  {
   "cell_type": "markdown",
   "metadata": {},
   "source": [
    "# Formatting single spaced text data into double spaced text data.\n",
    "\n",
    "- - -\n",
    "\n",
    "## main features (may be updated):\n",
    "- reads specified text data and formats it into double spaced text data."
   ]
  },
  {
   "cell_type": "code",
   "execution_count": 1,
   "metadata": {},
   "outputs": [],
   "source": [
    "from os import system, path, makedirs"
   ]
  },
  {
   "cell_type": "code",
   "execution_count": 2,
   "metadata": {},
   "outputs": [],
   "source": [
    "def format2double_space(data):\n",
    "    formatted_data = ''\n",
    "    double_space = '  '\n",
    "    counter = 0\n",
    "    \n",
    "    for data_n in data:\n",
    "        for string in data_n:\n",
    "            if '\\n' in string or ' ' in string or len(string) < 1:\n",
    "                if ' ' in string or len(string) < 1:\n",
    "                    pass\n",
    "                formatted_data += string\n",
    "            else:\n",
    "                formatted_data += string+double_space\n",
    "                counter = 0\n",
    "    \n",
    "    formatted_data += '\\n\\n[{}]'.format(counter)\n",
    "    # print(formatted_data) # for debugging\n",
    "    return formatted_data"
   ]
  },
  {
   "cell_type": "code",
   "execution_count": 3,
   "metadata": {},
   "outputs": [],
   "source": [
    "def import_files(filename):\n",
    "    output = []\n",
    "    with open(filename, 'r') as file:\n",
    "        file_data = file.readlines()\n",
    "        for data in file_data:\n",
    "            output.append(data.split(' '))\n",
    "        print(output)\n",
    "        output = format2double_space(output)\n",
    "        print(output)\n",
    "        _filename = ''\n",
    "        for i in filename:\n",
    "            _filename += i\n",
    "            if i == '/':\n",
    "                _filename = ''\n",
    "        return output, _filename"
   ]
  },
  {
   "cell_type": "code",
   "execution_count": 4,
   "metadata": {},
   "outputs": [
    {
     "name": "stdout",
     "output_type": "stream",
     "text": [
      "input file to format: tests/test3.txt\n",
      "[['fuck', 'U', 'communication\\n'], ['fuck', 'U', 'communication\\n']]\n",
      "fuck  U  communication\n",
      "fuck  U  communication\n",
      "\n"
     ]
    }
   ],
   "source": [
    "file_path = input('input file to format: ')\n",
    "data, filename = import_files(file_path)\n",
    "path.abspath('./');\n",
    "makedirs('outputs', exist_ok=True)\n",
    "with open(f'outputs/{filename}', 'w') as output:\n",
    "    output.write(data)"
   ]
  }
 ],
 "metadata": {
  "kernelspec": {
   "display_name": "Python 3",
   "language": "python",
   "name": "python3"
  },
  "language_info": {
   "codemirror_mode": {
    "name": "ipython",
    "version": 3
   },
   "file_extension": ".py",
   "mimetype": "text/x-python",
   "name": "python",
   "nbconvert_exporter": "python",
   "pygments_lexer": "ipython3",
   "version": "3.6.9"
  }
 },
 "nbformat": 4,
 "nbformat_minor": 2
}
